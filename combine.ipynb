{
 "cells": [
  {
   "cell_type": "code",
   "execution_count": 1,
   "metadata": {},
   "outputs": [],
   "source": [
    "from PIL import Image\n",
    "import os\n",
    "import pandas as pd\n",
    "import cv2\n",
    "import numpy as np\n",
    "from tqdm import tqdm"
   ]
  },
  {
   "cell_type": "code",
   "execution_count": 2,
   "metadata": {},
   "outputs": [],
   "source": [
    "syz_path = \".\\\\jpgs\\\\\"\n",
    "output_path = \".\\\\combined\\\\\""
   ]
  },
  {
   "cell_type": "code",
   "execution_count": 3,
   "metadata": {},
   "outputs": [
    {
     "name": "stderr",
     "output_type": "stream",
     "text": [
      "100%|██████████| 10/10 [00:03<00:00,  2.66it/s]\n"
     ]
    }
   ],
   "source": [
    "i = 0\n",
    "for item in tqdm(os.listdir(syz_path)):\n",
    "    try:\n",
    "        im_path = syz_path + item + \"/\"\n",
    "        \n",
    "        image1 = cv2.imread(im_path + \"RCC.jpg\")\n",
    "        image2 = cv2.imread(im_path + \"RMLO.jpg\")\n",
    "        image3 = cv2.imread(im_path + \"LCC.jpg\")\n",
    "        image4 = cv2.imread(im_path + \"LMLO.jpg\")\n",
    "\n",
    "        resized_image1 = cv2.resize(image1, (512, 512))\n",
    "        resized_image2 = cv2.resize(image2, (512, 512))\n",
    "        resized_image3 = cv2.resize(image3, (512, 512))\n",
    "        resized_image4 = cv2.resize(image4, (512, 512))\n",
    "\n",
    "        # Combine the 4 images into one\n",
    "        combined_image = np.vstack((np.hstack((resized_image1, resized_image2)), np.hstack((resized_image3, resized_image4))))\n",
    "\n",
    "        cv2.imwrite(output_path + item +  \".png\", combined_image)\n",
    "\n",
    "    except Exception as e:\n",
    "        print(item, \" HATA \", e)\n",
    "\n",
    "    i += 1"
   ]
  }
 ],
 "metadata": {
  "kernelspec": {
   "display_name": "Python 3",
   "language": "python",
   "name": "python3"
  },
  "language_info": {
   "codemirror_mode": {
    "name": "ipython",
    "version": 3
   },
   "file_extension": ".py",
   "mimetype": "text/x-python",
   "name": "python",
   "nbconvert_exporter": "python",
   "pygments_lexer": "ipython3",
   "version": "3.9.7"
  },
  "orig_nbformat": 4
 },
 "nbformat": 4,
 "nbformat_minor": 2
}
