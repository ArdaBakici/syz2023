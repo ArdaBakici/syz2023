{
 "cells": [
  {
   "cell_type": "code",
   "execution_count": 13,
   "metadata": {},
   "outputs": [],
   "source": [
    "import torch\n",
    "import torch.nn as nn\n",
    "import torch.optim as optim\n",
    "from torch.autograd import Variable\n",
    "from torchvision import datasets, models, transforms\n",
    "import time\n",
    "import os\n",
    "from tqdm import tqdm\n",
    "from glob import glob\n",
    "import pandas as pd\n",
    "import cv2\n",
    "import PIL.Image as Image\n",
    "import numpy as np"
   ]
  },
  {
   "cell_type": "code",
   "execution_count": 14,
   "metadata": {},
   "outputs": [],
   "source": [
    "input_folder = \".\\\\combined\\\\\"\n",
    "komp_weight = \".\\\\weights\\\\komp.pth\"\n",
    "birads_weight = \".\\\\weights\\\\birads.pth\"\n",
    "excel_save_path = \".\\\\results.xlsx\"\n",
    "input_size = 832"
   ]
  },
  {
   "cell_type": "code",
   "execution_count": 15,
   "metadata": {},
   "outputs": [],
   "source": [
    "data_transform = transforms.Compose([\n",
    "            transforms.Resize(input_size),\n",
    "            transforms.CenterCrop(input_size),\n",
    "            transforms.ToTensor(),\n",
    "            transforms.Normalize([0.485, 0.456, 0.406], [0.229, 0.224, 0.225])\n",
    "        ])"
   ]
  },
  {
   "cell_type": "code",
   "execution_count": 16,
   "metadata": {},
   "outputs": [],
   "source": [
    "inputs = glob(input_folder + \"*.png\")\n",
    "# birads, komp\n",
    "birads_res = []\n",
    "komp_res = []\n",
    "results = []"
   ]
  },
  {
   "cell_type": "code",
   "execution_count": 18,
   "metadata": {},
   "outputs": [],
   "source": [
    "# 10 dk\n",
    "def birads_predict(inputs):\n",
    "    birads_model = torch.load(birads_weight)\n",
    "    birads_model = birads_model.cuda()\n",
    "    birads_model.eval()\n",
    "    for input in tqdm(inputs):\n",
    "        input = transforms.Compose([\n",
    "            transforms.Resize(input_size),\n",
    "            transforms.CenterCrop(input_size),\n",
    "            transforms.ToTensor(),\n",
    "            transforms.Normalize([0.485, 0.456, 0.406], [0.229, 0.224, 0.225])\n",
    "        ])(Image.open(input))\n",
    "        input =  Variable(input.cuda())\n",
    "        output = birads_model(input.unsqueeze(0))\n",
    "        _, preds = torch.max(output.data, 1)\n",
    "        if(preds.item() == 0):\n",
    "            birads_res.append(\"BI-RADS0\")\n",
    "        elif(preds.item() == 1):\n",
    "            birads_res.append(\"BI-RADS1-2\")\n",
    "        elif(preds.item() == 2):\n",
    "            birads_res.append(\"BI-RADS4-5\")"
   ]
  },
  {
   "cell_type": "code",
   "execution_count": 19,
   "metadata": {},
   "outputs": [],
   "source": [
    "# 10 dk\n",
    "def komp_predict(inputs):\n",
    "    komp_model = torch.load(komp_weight)\n",
    "    komp_model = komp_model.cuda()\n",
    "    komp_model.eval()\n",
    "    for input in tqdm(inputs):\n",
    "        input = transforms.Compose([\n",
    "            transforms.Resize(input_size),\n",
    "            transforms.CenterCrop(input_size),\n",
    "            transforms.ToTensor(),\n",
    "            transforms.Normalize([0.485, 0.456, 0.406], [0.229, 0.224, 0.225])\n",
    "        ])(Image.open(input))\n",
    "        input =  Variable(input.cuda())\n",
    "        output = komp_model(input.unsqueeze(0))\n",
    "        _, preds = torch.max(output.data, 1)\n",
    "        if(preds.item() == 0):\n",
    "            komp_res.append(\"A\")\n",
    "        elif(preds.item() == 1):\n",
    "            komp_res.append(\"B\")\n",
    "        elif(preds.item() == 2):\n",
    "            komp_res.append(\"C\")\n",
    "        elif(preds.item() == 3):\n",
    "            komp_res.append(\"D\")"
   ]
  },
  {
   "cell_type": "code",
   "execution_count": 20,
   "metadata": {},
   "outputs": [
    {
     "name": "stderr",
     "output_type": "stream",
     "text": [
      "100%|██████████| 10/10 [00:03<00:00,  2.57it/s]\n"
     ]
    }
   ],
   "source": [
    "birads_predict(inputs)"
   ]
  },
  {
   "cell_type": "code",
   "execution_count": 21,
   "metadata": {},
   "outputs": [
    {
     "name": "stderr",
     "output_type": "stream",
     "text": [
      "100%|██████████| 10/10 [00:03<00:00,  2.63it/s]\n"
     ]
    }
   ],
   "source": [
    "komp_predict(inputs)"
   ]
  },
  {
   "cell_type": "code",
   "execution_count": 23,
   "metadata": {},
   "outputs": [],
   "source": [
    "if(len(birads_res) != len(komp_res)):\n",
    "    print(\"Fatal Error\")"
   ]
  },
  {
   "cell_type": "code",
   "execution_count": 24,
   "metadata": {},
   "outputs": [],
   "source": [
    "for i in range(len(birads_res)):\n",
    "    results.append({\"HASTANO\": inputs[i].split(\"\\\\\")[-1].split(\".\")[0], \"BIRADS KATEGORİSİ\": birads_res[i], \"MEME KOMPOZİSYONU\": komp_res[i], \"KADRAN BİLGİSİ (SAĞ)\": None, \"KADRAN BİLGİSİ (SOL)\": None})"
   ]
  },
  {
   "cell_type": "code",
   "execution_count": 25,
   "metadata": {},
   "outputs": [
    {
     "name": "stdout",
     "output_type": "stream",
     "text": [
      "     HASTANO BIRADS KATEGORİSİ MEME KOMPOZİSYONU KADRAN BİLGİSİ (SAĞ)  \\\n",
      "0  822702935        BI-RADS1-2                 A                 None   \n",
      "1  822702942        BI-RADS1-2                 A                 None   \n",
      "2  822702950        BI-RADS1-2                 A                 None   \n",
      "3  822702964        BI-RADS1-2                 B                 None   \n",
      "4  825890613        BI-RADS4-5                 C                 None   \n",
      "5  825890617        BI-RADS1-2                 D                 None   \n",
      "6  836163882        BI-RADS1-2                 D                 None   \n",
      "7  836187148        BI-RADS1-2                 C                 None   \n",
      "8  836194547        BI-RADS4-5                 B                 None   \n",
      "9  845282653        BI-RADS1-2                 C                 None   \n",
      "\n",
      "  KADRAN BİLGİSİ (SOL)  \n",
      "0                 None  \n",
      "1                 None  \n",
      "2                 None  \n",
      "3                 None  \n",
      "4                 None  \n",
      "5                 None  \n",
      "6                 None  \n",
      "7                 None  \n",
      "8                 None  \n",
      "9                 None  \n"
     ]
    }
   ],
   "source": [
    "res_data_frame = pd.DataFrame.from_records(results)\n",
    "print(res_data_frame)"
   ]
  },
  {
   "cell_type": "code",
   "execution_count": 12,
   "metadata": {},
   "outputs": [],
   "source": [
    "pd.io.formats.excel.ExcelFormatter.header_style = None\n",
    "res_data_frame.to_excel(excel_save_path, index=False)"
   ]
  }
 ],
 "metadata": {
  "kernelspec": {
   "display_name": "Python 3",
   "language": "python",
   "name": "python3"
  },
  "language_info": {
   "codemirror_mode": {
    "name": "ipython",
    "version": 3
   },
   "file_extension": ".py",
   "mimetype": "text/x-python",
   "name": "python",
   "nbconvert_exporter": "python",
   "pygments_lexer": "ipython3",
   "version": "3.9.7"
  },
  "orig_nbformat": 4
 },
 "nbformat": 4,
 "nbformat_minor": 2
}
