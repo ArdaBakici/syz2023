{
 "cells": [
  {
   "cell_type": "code",
   "execution_count": null,
   "metadata": {},
   "outputs": [],
   "source": [
    "import os\n",
    "from tqdm import tqdm\n",
    "from glob import glob\n",
    "import dicom2jpg\n",
    "import time"
   ]
  },
  {
   "cell_type": "code",
   "execution_count": null,
   "metadata": {},
   "outputs": [],
   "source": [
    "input_folder = \".\\\\input\\\\\"\n",
    "output_folder = \".\\\\jpgs\\\\\"\n",
    "start_point = 0"
   ]
  },
  {
   "cell_type": "code",
   "execution_count": null,
   "metadata": {},
   "outputs": [],
   "source": [
    "# 50 dk\n",
    "print(os.getcwd())\n",
    "folders = glob(input_folder + \"*\")\n",
    "for folder in tqdm(folders[start_point:]):\n",
    "    sub_folders = glob(f\"{folder}/\")\n",
    "    for sub_folder in sub_folders:\n",
    "        target_folder = sub_folder.replace(input_folder, output_folder)\n",
    "        os.makedirs(target_folder, exist_ok=True)\n",
    "        dicom2jpg.dicom2jpg(sub_folder, target_root=target_folder, multiprocessing=True)"
   ]
  }
 ],
 "metadata": {
  "kernelspec": {
   "display_name": "Python 3.9.7 64-bit",
   "language": "python",
   "name": "python3"
  },
  "language_info": {
   "codemirror_mode": {
    "name": "ipython",
    "version": 3
   },
   "file_extension": ".py",
   "mimetype": "text/x-python",
   "name": "python",
   "nbconvert_exporter": "python",
   "pygments_lexer": "ipython3",
   "version": "3.9.7"
  },
  "orig_nbformat": 4,
  "vscode": {
   "interpreter": {
    "hash": "f426f2e07de0045617bceb7b8a57fffa77756c699a9e132fda2811f91e926193"
   }
  }
 },
 "nbformat": 4,
 "nbformat_minor": 2
}
